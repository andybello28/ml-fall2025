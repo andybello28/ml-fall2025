{
  "nbformat": 4,
  "nbformat_minor": 0,
  "metadata": {
    "colab": {
      "provenance": []
    },
    "kernelspec": {
      "name": "python3",
      "display_name": "Python 3"
    },
    "language_info": {
      "name": "python"
    }
  },
  "cells": [
    {
      "cell_type": "code",
      "execution_count": null,
      "metadata": {
        "id": "LRCzVGsaNVAZ"
      },
      "outputs": [],
      "source": [
        "#PS2\n",
        "import numpy as np\n",
        "#Just some test cases\n",
        "X = np.array([[1, 1, 0, 1], [1, 1, 1, 1]])\n",
        "y = np.array([[1],[1]])\n",
        "\n",
        "sum = (1 / X.shape[0]) * (X.T @ y)\n",
        "\n",
        "submatrix = X[np.where(y == 1)[0]]\n",
        "\n",
        "colmatrix = X @ np.array([X[0]]).T\n",
        "\n",
        "pairwisematrix = X @ X.T"
      ]
    },
    {
      "cell_type": "code",
      "source": [
        "import numpy as np\n",
        "hessian = np.array([[2, 0, 0],[0, 2, -2],[0, -2, 10]])\n",
        "print(np.linalg.eig(hessian))"
      ],
      "metadata": {
        "colab": {
          "base_uri": "https://localhost:8080/"
        },
        "id": "U0dXHz5v7gag",
        "outputId": "ad08d4c8-5eae-4cdc-84b1-abd0dfc11a64"
      },
      "execution_count": null,
      "outputs": [
        {
          "output_type": "stream",
          "name": "stdout",
          "text": [
            "EigResult(eigenvalues=array([10.47213595,  1.52786405,  2.        ]), eigenvectors=array([[ 0.        ,  0.        ,  1.        ],\n",
            "       [-0.22975292,  0.97324899,  0.        ],\n",
            "       [ 0.97324899,  0.22975292,  0.        ]]))\n"
          ]
        }
      ]
    },
    {
      "cell_type": "code",
      "source": [
        "import numpy as np\n",
        "\n",
        "def done(cprev, c):\n",
        "  return (c - cprev).T@(c - cprev) < 1.E-8\n",
        "\n",
        "def gradient(c):\n",
        "    dc0 = 2 * (c[0] + 2)\n",
        "    dc1 = 2 * (c[1] - 3) - 2 * c[2]\n",
        "    dc2 = 10 * (c[2] + 1) - 2 * c[1]\n",
        "    return np.array([dc0, dc1, dc2])\n",
        "\n",
        "def gradDescent(rate):\n",
        "  #Get a starting C from normal distribution with mean 0 and variance .1\n",
        "  c = np.random.normal(0, .1 * .1, size=3)\n",
        "  cprev = c + 1\n",
        "  updates = 0\n",
        "  while not done(cprev, c):\n",
        "    cprev = c.copy() #If we do not do copy, then cprev is just a reference to the memory allocated for c\n",
        "    c = c - rate * gradient(c)\n",
        "    updates += 1\n",
        "  return c, updates\n",
        "\n",
        "learning_rate=.01\n",
        "\n",
        "result = gradDescent(learning_rate)\n",
        "print(f\"Learning rate = {learning_rate}\")\n",
        "print(f\"c = {result[0]}\")\n",
        "print(f\"Updates = {result[1]}\")\n"
      ],
      "metadata": {
        "colab": {
          "base_uri": "https://localhost:8080/"
        },
        "id": "CWUDxTGTUZfh",
        "outputId": "1e57764f-5984-4876-b751-bf2c34493097"
      },
      "execution_count": null,
      "outputs": [
        {
          "output_type": "stream",
          "name": "stdout",
          "text": [
            "Learning rate = 0.01\n",
            "c = [-1.99914609  2.49391635 -0.50143616]\n",
            "Updates = 384\n"
          ]
        }
      ]
    },
    {
      "cell_type": "code",
      "source": [
        "from sklearn.datasets import fetch_openml\n",
        "from sklearn.tree import DecisionTreeClassifier\n",
        "from sklearn.model_selection import cross_val_score\n",
        "\n",
        "import matplotlib.pyplot as plt\n",
        "\n",
        "D = fetch_openml('DNA', as_frame = False)\n",
        "X = D.data\n",
        "y = D.target\n",
        "\n",
        "depths = []\n",
        "for i in range(1, 9):\n",
        "  depths.append(2 ** i)\n",
        "\n",
        "in_sample_errors = []\n",
        "cross_validation_errors = []\n",
        "\n",
        "for depth in depths:\n",
        "  clf = DecisionTreeClassifier(max_depth=depth)\n",
        "  clf.fit(X, y)\n",
        "\n",
        "  in_sample_accuracy = clf.score(X, y)\n",
        "  in_sample_errors.append(1 - in_sample_accuracy)\n",
        "\n",
        "  cv_accuracy = cross_val_score(clf, X, y, cv = 20, scoring = \"accuracy\")\n",
        "  #We want to take the mean here because the variable cv_score will store an np array of the accuracy\n",
        "  cross_validation_errors.append(1 - np.mean(cv_accuracy))\n",
        "\n",
        "plt.plot(depths, in_sample_errors, label=\"In-sample error\")\n",
        "plt.plot(depths, cross_validation_errors, label=\"Out-of-sample error\")\n",
        "plt.xlabel(\"Maximum Depth\")\n",
        "plt.ylabel(\"Error Rate\")\n",
        "plt.legend()\n",
        "plt.show()\n"
      ],
      "metadata": {
        "colab": {
          "base_uri": "https://localhost:8080/",
          "height": 449
        },
        "id": "vRrtrKyQgsnu",
        "outputId": "a30f96a4-ea63-489c-eb75-2b8239154ffa"
      },
      "execution_count": null,
      "outputs": [
        {
          "output_type": "display_data",
          "data": {
            "text/plain": [
              "<Figure size 640x480 with 1 Axes>"
            ],
            "image/png": "[encoded data removed]"
          },
          "metadata": {}
        }
      ]
    },
    {
      "cell_type": "code",
      "source": [
        "from sklearn.datasets import fetch_openml\n",
        "from sklearn.linear_model import SGDClassifier\n",
        "from sklearn.preprocessing import PolynomialFeatures\n",
        "from sklearn.model_selection import cross_val_score\n",
        "\n",
        "D = fetch_openml(name='dna', version=1, as_frame=False)\n",
        "X = D.data\n",
        "y = D.target\n",
        "\n",
        "#Calculate for the original data set with no transformation\n",
        "glc = SGDClassifier()\n",
        "glc.fit(X, y)\n",
        "original_accuracy = glc.score(X, y)\n",
        "original_error = 1 - original_accuracy\n",
        "# Tells us how many classes and how many features for each class as the second value in the shape\n",
        "capacity1 = glc.coef_.shape[1]\n",
        "cv_accuracy = cross_val_score(clf, X, y, cv = 10, scoring = \"accuracy\")\n",
        "cv_accuracy_mean = np.mean(cv_accuracy)\n",
        "cv_error = 1 - cv_accuracy_mean\n",
        "\n",
        "# Create an alternative representation based on quadratic feature mapping for feature transformation\n",
        "quadratic = PolynomialFeatures()\n",
        "new_X = quadratic.fit_transform(X)\n",
        "\n",
        "#Calculating after the transformation\n",
        "glc2 = SGDClassifier()\n",
        "glc2.fit(new_X, y)\n",
        "capacity2 = glc2.coef_.shape[1]\n",
        "second_accuracy = glc2.score(new_X, y)\n",
        "second_error = 1 - second_accuracy\n",
        "cv_accuracy2 = cross_val_score(glc2, new_X, y, cv = 10, scoring = \"accuracy\")\n",
        "cv_accuracy_mean2 = np.mean(cv_accuracy2)\n",
        "cv_error2 = 1 - cv_accuracy_mean2\n",
        "\n",
        "print(\"Original\")\n",
        "print(f\"Original in-sample Error: {original_error:.3f}\")\n",
        "print(f\"Original Capacity (size of parameter vector): {capacity1}\")\n",
        "print(f\"Estimated out-of-sample error from cross validation: {cv_error}\")\n",
        "\n",
        "print(\"After feature transformation \")\n",
        "print(f\"Second in-sample error: {second_error:.3f}\")\n",
        "print(f\"Second Capacity (size of parameter vector): {capacity2}\")\n",
        "print(f\"Estimated out-of-sample error from cross validation: {cv_error2}\")\n",
        "\n"
      ],
      "metadata": {
        "colab": {
          "base_uri": "https://localhost:8080/"
        },
        "id": "PzUL0UBqxHBK",
        "outputId": "df36a203-ba9e-4ec9-d202-c1a7a3b072cf"
      },
      "execution_count": null,
      "outputs": [
        {
          "output_type": "stream",
          "name": "stdout",
          "text": [
            "Original\n",
            "Original in-sample Error: 0.017\n",
            "Original Capacity (size of parameter vector): 180\n",
            "Estimated out-of-sample error from cross validation: 0.08852349125608716\n",
            "After feature transformation \n",
            "Second in-sample error: 0.000\n",
            "Second Capacity (size of parameter vector): 16471\n",
            "Estimated out-of-sample error from cross validation: 0.04520317028449772\n"
          ]
        }
      ]
    }
  ]
}